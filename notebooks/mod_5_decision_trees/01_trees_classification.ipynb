{
 "cells": [
  {
   "cell_type": "markdown",
   "metadata": {},
   "source": [
    "# Build a classification decision tree\n",
    "\n",
    "We will illustrate how decision tree fit data with a simple classification\n",
    "problem using the penguins dataset."
   ]
  },
  {
   "cell_type": "markdown",
   "metadata": {},
   "source": [
    "<div class=\"admonition note alert alert-info\">\n",
    "<p class=\"first admonition-title\" style=\"font-weight: bold;\">Note</p>\n",
    "<p class=\"last\">If you want a deeper overview regarding this dataset, you can refer to the\n",
    "Appendix - Datasets description section at the end of this MOOC.</p>\n",
    "</div>"
   ]
  },
  {
   "cell_type": "code",
   "execution_count": 1,
   "metadata": {},
   "outputs": [],
   "source": [
    "import pandas as pd\n",
    "\n",
    "penguins = pd.read_csv(\"datasets/penguins_classification.csv\")\n",
    "culmen_columns = [\"Culmen Length (mm)\", \"Culmen Depth (mm)\"]\n",
    "target_column = \"Species\""
   ]
  },
  {
   "cell_type": "markdown",
   "metadata": {},
   "source": [
    "Besides, we split the data into two subsets to investigate how trees will\n",
    "predict values based on an out-of-samples dataset."
   ]
  },
  {
   "cell_type": "code",
   "execution_count": 3,
   "metadata": {},
   "outputs": [],
   "source": [
    "from sklearn.model_selection import train_test_split\n",
    "\n",
    "data, target = penguins[culmen_columns], penguins[target_column]\n",
    "data_train, data_test, target_train, target_test = train_test_split(\n",
    "    data, target, random_state=0)"
   ]
  },
  {
   "cell_type": "markdown",
   "metadata": {},
   "source": [
    "\n",
    "In a previous notebook, we learnt that a linear classifier will define a\n",
    "linear separation to split classes using a linear combination of the input\n",
    "features. In our 2-dimensional space, it means that a linear classifier will\n",
    "define some oblique lines that best separate our classes. We define a\n",
    "function below that, given a set of data points and a classifier, will plot\n",
    "the decision boundaries learnt by the classifier.\n",
    "\n",
    "Thus, for a linear classifier, we will obtain the following decision\n",
    "boundaries. These boundaries lines indicate where the model changes its\n",
    "prediction from one class to another."
   ]
  },
  {
   "cell_type": "code",
   "execution_count": 4,
   "metadata": {},
   "outputs": [
    {
     "data": {
      "text/plain": [
       "LogisticRegression()"
      ]
     },
     "execution_count": 4,
     "metadata": {},
     "output_type": "execute_result"
    }
   ],
   "source": [
    "from sklearn.linear_model import LogisticRegression\n",
    "\n",
    "linear_model = LogisticRegression()\n",
    "linear_model.fit(data_train, target_train)"
   ]
  },
  {
   "cell_type": "code",
   "execution_count": 5,
   "id": "4b06acdf",
   "metadata": {},
   "outputs": [
    {
     "ename": "ModuleNotFoundError",
     "evalue": "No module named 'helpers'",
     "output_type": "error",
     "traceback": [
      "\u001b[0;31m---------------------------------------------------------------------------\u001b[0m",
      "\u001b[0;31mModuleNotFoundError\u001b[0m                       Traceback (most recent call last)",
      "\u001b[1;32m/home/luba/Documents/DS/projects-courses-ongoing/sklearn-course-inria-[doing]/notebooks/mod_5_decision_trees/trees_classification.ipynb Cell 8'\u001b[0m in \u001b[0;36m<module>\u001b[0;34m\u001b[0m\n\u001b[1;32m      <a href='vscode-notebook-cell:/home/luba/Documents/DS/projects-courses-ongoing/sklearn-course-inria-%5Bdoing%5D/notebooks/mod_5_decision_trees/trees_classification.ipynb#ch0000030?line=0'>1</a>\u001b[0m \u001b[39mimport\u001b[39;00m \u001b[39mmatplotlib\u001b[39;00m\u001b[39m.\u001b[39;00m\u001b[39mpyplot\u001b[39;00m \u001b[39mas\u001b[39;00m \u001b[39mplt\u001b[39;00m\n\u001b[1;32m      <a href='vscode-notebook-cell:/home/luba/Documents/DS/projects-courses-ongoing/sklearn-course-inria-%5Bdoing%5D/notebooks/mod_5_decision_trees/trees_classification.ipynb#ch0000030?line=1'>2</a>\u001b[0m \u001b[39mimport\u001b[39;00m \u001b[39mseaborn\u001b[39;00m \u001b[39mas\u001b[39;00m \u001b[39msns\u001b[39;00m\n\u001b[0;32m----> <a href='vscode-notebook-cell:/home/luba/Documents/DS/projects-courses-ongoing/sklearn-course-inria-%5Bdoing%5D/notebooks/mod_5_decision_trees/trees_classification.ipynb#ch0000030?line=3'>4</a>\u001b[0m \u001b[39mfrom\u001b[39;00m \u001b[39mhelpers\u001b[39;00m\u001b[39m.\u001b[39;00m\u001b[39mplotting\u001b[39;00m \u001b[39mimport\u001b[39;00m DecisionBoundaryDisplay\n\u001b[1;32m      <a href='vscode-notebook-cell:/home/luba/Documents/DS/projects-courses-ongoing/sklearn-course-inria-%5Bdoing%5D/notebooks/mod_5_decision_trees/trees_classification.ipynb#ch0000030?line=5'>6</a>\u001b[0m palette \u001b[39m=\u001b[39m [\u001b[39m\"\u001b[39m\u001b[39mtab:red\u001b[39m\u001b[39m\"\u001b[39m, \u001b[39m\"\u001b[39m\u001b[39mtab:blue\u001b[39m\u001b[39m\"\u001b[39m, \u001b[39m\"\u001b[39m\u001b[39mblack\u001b[39m\u001b[39m\"\u001b[39m]\n\u001b[1;32m      <a href='vscode-notebook-cell:/home/luba/Documents/DS/projects-courses-ongoing/sklearn-course-inria-%5Bdoing%5D/notebooks/mod_5_decision_trees/trees_classification.ipynb#ch0000030?line=7'>8</a>\u001b[0m DecisionBoundaryDisplay\u001b[39m.\u001b[39mfrom_estimator(\n\u001b[1;32m      <a href='vscode-notebook-cell:/home/luba/Documents/DS/projects-courses-ongoing/sklearn-course-inria-%5Bdoing%5D/notebooks/mod_5_decision_trees/trees_classification.ipynb#ch0000030?line=8'>9</a>\u001b[0m     linear_model, data_train, response_method\u001b[39m=\u001b[39m\u001b[39m\"\u001b[39m\u001b[39mpredict\u001b[39m\u001b[39m\"\u001b[39m, cmap\u001b[39m=\u001b[39m\u001b[39m\"\u001b[39m\u001b[39mRdBu\u001b[39m\u001b[39m\"\u001b[39m, alpha\u001b[39m=\u001b[39m\u001b[39m0.5\u001b[39m\n\u001b[1;32m     <a href='vscode-notebook-cell:/home/luba/Documents/DS/projects-courses-ongoing/sklearn-course-inria-%5Bdoing%5D/notebooks/mod_5_decision_trees/trees_classification.ipynb#ch0000030?line=9'>10</a>\u001b[0m )\n",
      "\u001b[0;31mModuleNotFoundError\u001b[0m: No module named 'helpers'"
     ]
    }
   ],
   "source": [
    "import matplotlib.pyplot as plt\n",
    "import seaborn as sns\n",
    "\n",
    "from helpers.plotting import DecisionBoundaryDisplay\n",
    "\n",
    "palette = [\"tab:red\", \"tab:blue\", \"black\"]\n",
    "\n",
    "DecisionBoundaryDisplay.from_estimator(\n",
    "    linear_model, data_train, response_method=\"predict\", cmap=\"RdBu\", alpha=0.5\n",
    ")\n",
    "sns.scatterplot(data=penguins, x=culmen_columns[0], y=culmen_columns[1], hue=target_column, palette=palette)\n",
    "plt.legend(bbox_to_anchor=(1.05, 1), loc=\"upper left\")\n",
    "_ = plt.title(\"Decision boundary using a lr\")"
   ]
  },
  {
   "cell_type": "code",
   "execution_count": null,
   "metadata": {},
   "outputs": [],
   "source": [
    "import matplotlib.pyplot as plt\n",
    "import seaborn as sns\n",
    "\n",
    "from helpers.plotting import DecisionBoundaryDisplay\n",
    "\n",
    "# create a palette to be used in the scatterplot\n",
    "palette = [\"tab:red\", \"tab:blue\", \"black\"]\n",
    "\n",
    "DecisionBoundaryDisplay.from_estimator(\n",
    "    linear_model, data_train, response_method=\"predict\", cmap=\"RdBu\", alpha=0.5\n",
    ")\n",
    "sns.scatterplot(data=penguins, x=culmen_columns[0], y=culmen_columns[1],\n",
    "                hue=target_column, palette=palette)\n",
    "# put the legend outside the plot\n",
    "plt.legend(bbox_to_anchor=(1.05, 1), loc='upper left')\n",
    "_ = plt.title(\"Decision boundary using a logistic regression\")"
   ]
  },
  {
   "cell_type": "markdown",
   "metadata": {},
   "source": [
    "We see that the lines are a combination of the input features since they are\n",
    "not perpendicular a specific axis. Indeed, this is due to the model\n",
    "parametrization that we saw in the previous notebook, controlled by the\n",
    "model's weights and intercept.\n",
    "\n",
    "Besides, it seems that the linear model would be a good candidate for\n",
    "such problem as it gives good accuracy."
   ]
  },
  {
   "cell_type": "code",
   "execution_count": 6,
   "metadata": {},
   "outputs": [
    {
     "name": "stdout",
     "output_type": "stream",
     "text": [
      "Accuracy of the LogisticRegression: 0.98\n"
     ]
    }
   ],
   "source": [
    "linear_model.fit(data_train, target_train)\n",
    "test_score = linear_model.score(data_test, target_test)\n",
    "print(f\"Accuracy of the LogisticRegression: {test_score:.2f}\")"
   ]
  },
  {
   "cell_type": "markdown",
   "metadata": {},
   "source": [
    "Unlike linear models, decision trees are non-parametric models: they are not\n",
    "controlled by a mathematical decision function and do not have weights or\n",
    "intercept to be optimized.\n",
    "\n",
    "Indeed, decision trees will partition the space by considering a **single\n",
    "feature at a time**. Let's illustrate this behaviour by having a decision\n",
    "tree make a single split to partition the feature space."
   ]
  },
  {
   "cell_type": "code",
   "execution_count": 7,
   "metadata": {},
   "outputs": [
    {
     "data": {
      "text/plain": [
       "DecisionTreeClassifier(max_depth=1)"
      ]
     },
     "execution_count": 7,
     "metadata": {},
     "output_type": "execute_result"
    }
   ],
   "source": [
    "from sklearn.tree import DecisionTreeClassifier\n",
    "\n",
    "tree = DecisionTreeClassifier(max_depth=1)\n",
    "tree.fit(data_train, target_train)"
   ]
  },
  {
   "cell_type": "code",
   "execution_count": 8,
   "metadata": {},
   "outputs": [
    {
     "ename": "NameError",
     "evalue": "name 'DecisionBoundaryDisplay' is not defined",
     "output_type": "error",
     "traceback": [
      "\u001b[0;31m---------------------------------------------------------------------------\u001b[0m",
      "\u001b[0;31mNameError\u001b[0m                                 Traceback (most recent call last)",
      "\u001b[1;32m/home/luba/Documents/DS/projects-courses-ongoing/sklearn-course-inria-[doing]/notebooks/mod_5_decision_trees/trees_classification.ipynb Cell 14'\u001b[0m in \u001b[0;36m<module>\u001b[0;34m\u001b[0m\n\u001b[0;32m----> <a href='vscode-notebook-cell:/home/luba/Documents/DS/projects-courses-ongoing/sklearn-course-inria-%5Bdoing%5D/notebooks/mod_5_decision_trees/trees_classification.ipynb#ch0000012?line=0'>1</a>\u001b[0m DecisionBoundaryDisplay\u001b[39m.\u001b[39mfrom_estimator(\n\u001b[1;32m      <a href='vscode-notebook-cell:/home/luba/Documents/DS/projects-courses-ongoing/sklearn-course-inria-%5Bdoing%5D/notebooks/mod_5_decision_trees/trees_classification.ipynb#ch0000012?line=1'>2</a>\u001b[0m     tree, data_train, response_method\u001b[39m=\u001b[39m\u001b[39m\"\u001b[39m\u001b[39mpredict\u001b[39m\u001b[39m\"\u001b[39m, cmap\u001b[39m=\u001b[39m\u001b[39m\"\u001b[39m\u001b[39mRdBu\u001b[39m\u001b[39m\"\u001b[39m, alpha\u001b[39m=\u001b[39m\u001b[39m0.5\u001b[39m\n\u001b[1;32m      <a href='vscode-notebook-cell:/home/luba/Documents/DS/projects-courses-ongoing/sklearn-course-inria-%5Bdoing%5D/notebooks/mod_5_decision_trees/trees_classification.ipynb#ch0000012?line=2'>3</a>\u001b[0m )\n\u001b[1;32m      <a href='vscode-notebook-cell:/home/luba/Documents/DS/projects-courses-ongoing/sklearn-course-inria-%5Bdoing%5D/notebooks/mod_5_decision_trees/trees_classification.ipynb#ch0000012?line=3'>4</a>\u001b[0m sns\u001b[39m.\u001b[39mscatterplot(data\u001b[39m=\u001b[39mpenguins, x\u001b[39m=\u001b[39mculmen_columns[\u001b[39m0\u001b[39m], y\u001b[39m=\u001b[39mculmen_columns[\u001b[39m1\u001b[39m],\n\u001b[1;32m      <a href='vscode-notebook-cell:/home/luba/Documents/DS/projects-courses-ongoing/sklearn-course-inria-%5Bdoing%5D/notebooks/mod_5_decision_trees/trees_classification.ipynb#ch0000012?line=4'>5</a>\u001b[0m                 hue\u001b[39m=\u001b[39mtarget_column, palette\u001b[39m=\u001b[39mpalette)\n\u001b[1;32m      <a href='vscode-notebook-cell:/home/luba/Documents/DS/projects-courses-ongoing/sklearn-course-inria-%5Bdoing%5D/notebooks/mod_5_decision_trees/trees_classification.ipynb#ch0000012?line=5'>6</a>\u001b[0m plt\u001b[39m.\u001b[39mlegend(bbox_to_anchor\u001b[39m=\u001b[39m(\u001b[39m1.05\u001b[39m, \u001b[39m1\u001b[39m), loc\u001b[39m=\u001b[39m\u001b[39m'\u001b[39m\u001b[39mupper left\u001b[39m\u001b[39m'\u001b[39m)\n",
      "\u001b[0;31mNameError\u001b[0m: name 'DecisionBoundaryDisplay' is not defined"
     ]
    }
   ],
   "source": [
    "DecisionBoundaryDisplay.from_estimator(\n",
    "    tree, data_train, response_method=\"predict\", cmap=\"RdBu\", alpha=0.5\n",
    ")\n",
    "sns.scatterplot(data=penguins, x=culmen_columns[0], y=culmen_columns[1],\n",
    "                hue=target_column, palette=palette)\n",
    "plt.legend(bbox_to_anchor=(1.05, 1), loc='upper left')\n",
    "_ = plt.title(\"Decision boundary using a decision tree\")"
   ]
  },
  {
   "cell_type": "markdown",
   "metadata": {},
   "source": [
    "The partitions found by the algorithm separates the data along the axis\n",
    "\"Culmen Depth\", discarding the feature \"Culmen Length\". Thus, it highlights\n",
    "that a decision tree does not use a combination of feature when making a\n",
    "split. We can look more in depth at the tree structure."
   ]
  },
  {
   "cell_type": "code",
   "execution_count": 9,
   "metadata": {},
   "outputs": [
    {
     "data": {
      "image/png": "[encoded data removed]",
      "text/plain": [
       "<Figure size 576x432 with 1 Axes>"
      ]
     },
     "metadata": {
      "needs_background": "light"
     },
     "output_type": "display_data"
    }
   ],
   "source": [
    "from sklearn.tree import plot_tree\n",
    "\n",
    "_, ax = plt.subplots(figsize=(8, 6))\n",
    "_ = plot_tree(tree, feature_names=culmen_columns,\n",
    "              class_names=tree.classes_, impurity=False, ax=ax)"
   ]
  },
  {
   "cell_type": "markdown",
   "metadata": {},
   "source": [
    "<div class=\"admonition tip alert alert-warning\">\n",
    "<p class=\"first admonition-title\" style=\"font-weight: bold;\">Tip</p>\n",
    "<p class=\"last\">We are using the function <tt class=\"docutils literal\">fig, ax = <span class=\"pre\">plt.subplots(figsize=(8,</span> 6))</tt> to create\n",
    "a figure and an axis with a specific size. Then, we can pass the axis to the\n",
    "<tt class=\"docutils literal\">sklearn.tree.plot_tree</tt> function such that the drawing happens in this axis.</p>\n",
    "</div>"
   ]
  },
  {
   "cell_type": "markdown",
   "metadata": {},
   "source": [
    "We see that the split was done the culmen depth feature. The original\n",
    "dataset was subdivided into 2 sets based on the culmen depth\n",
    "(inferior or superior to 16.45 mm).\n",
    "\n",
    "This partition of the dataset minimizes the class diversities in each\n",
    "sub-partitions. This measure is also known as a **criterion**,\n",
    "and is a settable parameter.\n",
    "\n",
    "If we look more closely at the partition, we see that the sample superior to\n",
    "16.45 belongs mainly to the Adelie class. Looking at the values, we indeed\n",
    "observe 103 Adelie individuals in this space. We also count 52 Chinstrap\n",
    "samples and 6 Gentoo samples. We can make similar interpretation for the\n",
    "partition defined by a threshold inferior to 16.45mm. In this case, the most\n",
    "represented class is the Gentoo species.\n",
    "\n",
    "Let's see how our tree would work as a predictor. Let's start to see the\n",
    "class predicted when the culmen depth is inferior to the threshold."
   ]
  },
  {
   "cell_type": "code",
   "execution_count": 10,
   "metadata": {},
   "outputs": [
    {
     "data": {
      "text/plain": [
       "array(['Gentoo'], dtype=object)"
      ]
     },
     "execution_count": 10,
     "metadata": {},
     "output_type": "execute_result"
    }
   ],
   "source": [
    "sample_1 = pd.DataFrame(\n",
    "    {\"Culmen Length (mm)\": [0], \"Culmen Depth (mm)\": [15]}\n",
    ")\n",
    "tree.predict(sample_1)"
   ]
  },
  {
   "cell_type": "markdown",
   "metadata": {},
   "source": [
    "The class predicted is the Gentoo. We can now check if we pass a culmen\n",
    "depth superior to the threshold."
   ]
  },
  {
   "cell_type": "code",
   "execution_count": 11,
   "metadata": {},
   "outputs": [
    {
     "data": {
      "text/plain": [
       "array(['Adelie'], dtype=object)"
      ]
     },
     "execution_count": 11,
     "metadata": {},
     "output_type": "execute_result"
    }
   ],
   "source": [
    "sample_2 = pd.DataFrame(\n",
    "    {\"Culmen Length (mm)\": [0], \"Culmen Depth (mm)\": [17]}\n",
    ")\n",
    "tree.predict(sample_2)"
   ]
  },
  {
   "cell_type": "markdown",
   "metadata": {},
   "source": [
    "In this case, the tree predicts the Adelie specie.\n",
    "\n",
    "Thus, we can conclude that a decision tree classifier will predict the most\n",
    "represented class within a partition.\n",
    "\n",
    "During the training, we have a count of samples in each partition, we can\n",
    "also compute the probability of belonging to a specific class within this\n",
    "partition."
   ]
  },
  {
   "cell_type": "code",
   "execution_count": 12,
   "metadata": {},
   "outputs": [],
   "source": [
    "y_pred_proba = tree.predict_proba(sample_2)\n",
    "y_proba_class_0 = pd.Series(y_pred_proba[0], index=tree.classes_)"
   ]
  },
  {
   "cell_type": "code",
   "execution_count": 13,
   "metadata": {},
   "outputs": [
    {
     "data": {
      "image/png": "[encoded data removed]",
      "text/plain": [
       "<Figure size 432x288 with 1 Axes>"
      ]
     },
     "metadata": {
      "needs_background": "light"
     },
     "output_type": "display_data"
    }
   ],
   "source": [
    "y_proba_class_0.plot.bar()\n",
    "plt.ylabel(\"Probability\")\n",
    "_ = plt.title(\"Probability to belong to a penguin class\")"
   ]
  },
  {
   "cell_type": "markdown",
   "metadata": {},
   "source": [
    "We will manually compute the different probability directly from the tree\n",
    "structure."
   ]
  },
  {
   "cell_type": "code",
   "execution_count": 14,
   "metadata": {},
   "outputs": [
    {
     "name": "stdout",
     "output_type": "stream",
     "text": [
      "Probabilities for the different classes:\n",
      "Adelie: 0.640\n",
      "Chinstrap: 0.323\n",
      "Gentoo: 0.037\n",
      "\n"
     ]
    }
   ],
   "source": [
    "adelie_proba = 103 / 161\n",
    "chinstrap_proba = 52 / 161\n",
    "gentoo_proba = 6 / 161\n",
    "print(\n",
    "    f\"Probabilities for the different classes:\\n\"\n",
    "    f\"Adelie: {adelie_proba:.3f}\\n\"\n",
    "    f\"Chinstrap: {chinstrap_proba:.3f}\\n\"\n",
    "    f\"Gentoo: {gentoo_proba:.3f}\\n\"\n",
    ")"
   ]
  },
  {
   "cell_type": "markdown",
   "metadata": {},
   "source": [
    "It is also important to note that the culmen length has been disregarded for\n",
    "the moment. It means that whatever the value given, it will not be used\n",
    "during the prediction."
   ]
  },
  {
   "cell_type": "code",
   "execution_count": 15,
   "metadata": {},
   "outputs": [
    {
     "data": {
      "text/plain": [
       "array([[0.63975155, 0.32298137, 0.03726708]])"
      ]
     },
     "execution_count": 15,
     "metadata": {},
     "output_type": "execute_result"
    }
   ],
   "source": [
    "sample_3 = pd.DataFrame(\n",
    "    {\"Culmen Length (mm)\": [10_000], \"Culmen Depth (mm)\": [17]}\n",
    ")\n",
    "tree.predict_proba(sample_3)"
   ]
  },
  {
   "cell_type": "markdown",
   "metadata": {},
   "source": [
    "Going back to our classification problem, the split found with a maximum\n",
    "depth of 1 is not powerful enough to separate the three species and the model\n",
    "accuracy is low when compared to the linear model."
   ]
  },
  {
   "cell_type": "code",
   "execution_count": 16,
   "metadata": {},
   "outputs": [
    {
     "name": "stdout",
     "output_type": "stream",
     "text": [
      "Accuracy of the DecisionTreeClassifier: 0.78\n"
     ]
    }
   ],
   "source": [
    "tree.fit(data_train, target_train)\n",
    "test_score = tree.score(data_test, target_test)\n",
    "print(f\"Accuracy of the DecisionTreeClassifier: {test_score:.2f}\")"
   ]
  },
  {
   "cell_type": "markdown",
   "metadata": {},
   "source": [
    "Indeed, it is not a surprise. We saw earlier that a single feature will not\n",
    "be able to separate all three species. However, from the previous analysis we\n",
    "saw that by using both features we should be able to get fairly good results.\n",
    "\n",
    "In the next exercise, you will increase the size of the tree depth. You will\n",
    "get intuitions on how the space partitioning is repeated over time."
   ]
  }
 ],
 "metadata": {
  "interpreter": {
   "hash": "2ac7241fb10f9bf7f48b40b299db82ca58686bc6006ce162a150ae669d3abd7a"
  },
  "jupytext": {
   "cell_metadata_filter": "-all",
   "main_language": "python",
   "notebook_metadata_filter": "-all"
  },
  "kernelspec": {
   "display_name": "Python 3.10.0 ('sklearn_course_inria-CmU_PTcY')",
   "language": "python",
   "name": "python3"
  },
  "language_info": {
   "codemirror_mode": {
    "name": "ipython",
    "version": 3
   },
   "file_extension": ".py",
   "mimetype": "text/x-python",
   "name": "python",
   "nbconvert_exporter": "python",
   "pygments_lexer": "ipython3",
   "version": "3.10.0"
  }
 },
 "nbformat": 4,
 "nbformat_minor": 5
}
