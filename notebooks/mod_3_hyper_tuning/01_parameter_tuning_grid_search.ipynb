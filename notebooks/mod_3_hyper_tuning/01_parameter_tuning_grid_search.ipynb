{
 "cells": [
  {
   "cell_type": "markdown",
   "metadata": {},
   "source": [
    "# Hyperparameter tuning by grid-search\n",
    "\n",
    "In the previous notebook, we saw that hyperparameters can affect the\n",
    "generalization performance of a model. In this notebook, we will show how to\n",
    "optimize hyperparameters using a grid-search approach."
   ]
  },
  {
   "cell_type": "markdown",
   "metadata": {},
   "source": [
    "## Our predictive model\n",
    "\n",
    "Let us reload the dataset as we did previously:"
   ]
  },
  {
   "cell_type": "code",
   "execution_count": 1,
   "metadata": {},
   "outputs": [],
   "source": [
    "from sklearn import set_config\n",
    "\n",
    "set_config(display=\"diagram\")"
   ]
  },
  {
   "cell_type": "code",
   "execution_count": 4,
   "metadata": {},
   "outputs": [],
   "source": [
    "import pandas as pd\n",
    "\n",
    "adult_census = pd.read_csv(\"datasets/adult-census.csv\")"
   ]
  },
  {
   "cell_type": "markdown",
   "metadata": {},
   "source": [
    "We extract the column containing the target."
   ]
  },
  {
   "cell_type": "code",
   "execution_count": 5,
   "metadata": {},
   "outputs": [
    {
     "data": {
      "text/plain": [
       "0         <=50K\n",
       "1         <=50K\n",
       "2          >50K\n",
       "3          >50K\n",
       "4         <=50K\n",
       "          ...  \n",
       "48837     <=50K\n",
       "48838      >50K\n",
       "48839     <=50K\n",
       "48840     <=50K\n",
       "48841      >50K\n",
       "Name: class, Length: 48842, dtype: object"
      ]
     },
     "execution_count": 5,
     "metadata": {},
     "output_type": "execute_result"
    }
   ],
   "source": [
    "target_name = \"class\"\n",
    "target = adult_census[target_name]\n",
    "target"
   ]
  },
  {
   "cell_type": "code",
   "execution_count": 6,
   "id": "b4508347",
   "metadata": {},
   "outputs": [
    {
     "data": {
      "text/plain": [
       "(48842,)"
      ]
     },
     "execution_count": 6,
     "metadata": {},
     "output_type": "execute_result"
    }
   ],
   "source": [
    "target.shape"
   ]
  },
  {
   "cell_type": "markdown",
   "metadata": {},
   "source": [
    "We drop from our data the target and the `\"education-num\"` column which\n",
    "duplicates the information from the `\"education\"` column."
   ]
  },
  {
   "cell_type": "code",
   "execution_count": 7,
   "metadata": {},
   "outputs": [
    {
     "data": {
      "text/html": [
       "<div>\n",
       "<style scoped>\n",
       "    .dataframe tbody tr th:only-of-type {\n",
       "        vertical-align: middle;\n",
       "    }\n",
       "\n",
       "    .dataframe tbody tr th {\n",
       "        vertical-align: top;\n",
       "    }\n",
       "\n",
       "    .dataframe thead th {\n",
       "        text-align: right;\n",
       "    }\n",
       "</style>\n",
       "<table border=\"1\" class=\"dataframe\">\n",
       "  <thead>\n",
       "    <tr style=\"text-align: right;\">\n",
       "      <th></th>\n",
       "      <th>age</th>\n",
       "      <th>workclass</th>\n",
       "      <th>education</th>\n",
       "      <th>marital-status</th>\n",
       "      <th>occupation</th>\n",
       "      <th>relationship</th>\n",
       "      <th>race</th>\n",
       "      <th>sex</th>\n",
       "      <th>capital-gain</th>\n",
       "      <th>capital-loss</th>\n",
       "      <th>hours-per-week</th>\n",
       "      <th>native-country</th>\n",
       "    </tr>\n",
       "  </thead>\n",
       "  <tbody>\n",
       "    <tr>\n",
       "      <th>0</th>\n",
       "      <td>25</td>\n",
       "      <td>Private</td>\n",
       "      <td>11th</td>\n",
       "      <td>Never-married</td>\n",
       "      <td>Machine-op-inspct</td>\n",
       "      <td>Own-child</td>\n",
       "      <td>Black</td>\n",
       "      <td>Male</td>\n",
       "      <td>0</td>\n",
       "      <td>0</td>\n",
       "      <td>40</td>\n",
       "      <td>United-States</td>\n",
       "    </tr>\n",
       "    <tr>\n",
       "      <th>1</th>\n",
       "      <td>38</td>\n",
       "      <td>Private</td>\n",
       "      <td>HS-grad</td>\n",
       "      <td>Married-civ-spouse</td>\n",
       "      <td>Farming-fishing</td>\n",
       "      <td>Husband</td>\n",
       "      <td>White</td>\n",
       "      <td>Male</td>\n",
       "      <td>0</td>\n",
       "      <td>0</td>\n",
       "      <td>50</td>\n",
       "      <td>United-States</td>\n",
       "    </tr>\n",
       "    <tr>\n",
       "      <th>2</th>\n",
       "      <td>28</td>\n",
       "      <td>Local-gov</td>\n",
       "      <td>Assoc-acdm</td>\n",
       "      <td>Married-civ-spouse</td>\n",
       "      <td>Protective-serv</td>\n",
       "      <td>Husband</td>\n",
       "      <td>White</td>\n",
       "      <td>Male</td>\n",
       "      <td>0</td>\n",
       "      <td>0</td>\n",
       "      <td>40</td>\n",
       "      <td>United-States</td>\n",
       "    </tr>\n",
       "    <tr>\n",
       "      <th>3</th>\n",
       "      <td>44</td>\n",
       "      <td>Private</td>\n",
       "      <td>Some-college</td>\n",
       "      <td>Married-civ-spouse</td>\n",
       "      <td>Machine-op-inspct</td>\n",
       "      <td>Husband</td>\n",
       "      <td>Black</td>\n",
       "      <td>Male</td>\n",
       "      <td>7688</td>\n",
       "      <td>0</td>\n",
       "      <td>40</td>\n",
       "      <td>United-States</td>\n",
       "    </tr>\n",
       "    <tr>\n",
       "      <th>4</th>\n",
       "      <td>18</td>\n",
       "      <td>?</td>\n",
       "      <td>Some-college</td>\n",
       "      <td>Never-married</td>\n",
       "      <td>?</td>\n",
       "      <td>Own-child</td>\n",
       "      <td>White</td>\n",
       "      <td>Female</td>\n",
       "      <td>0</td>\n",
       "      <td>0</td>\n",
       "      <td>30</td>\n",
       "      <td>United-States</td>\n",
       "    </tr>\n",
       "  </tbody>\n",
       "</table>\n",
       "</div>"
      ],
      "text/plain": [
       "   age   workclass      education       marital-status          occupation  \\\n",
       "0   25     Private           11th        Never-married   Machine-op-inspct   \n",
       "1   38     Private        HS-grad   Married-civ-spouse     Farming-fishing   \n",
       "2   28   Local-gov     Assoc-acdm   Married-civ-spouse     Protective-serv   \n",
       "3   44     Private   Some-college   Married-civ-spouse   Machine-op-inspct   \n",
       "4   18           ?   Some-college        Never-married                   ?   \n",
       "\n",
       "  relationship    race      sex  capital-gain  capital-loss  hours-per-week  \\\n",
       "0    Own-child   Black     Male             0             0              40   \n",
       "1      Husband   White     Male             0             0              50   \n",
       "2      Husband   White     Male             0             0              40   \n",
       "3      Husband   Black     Male          7688             0              40   \n",
       "4    Own-child   White   Female             0             0              30   \n",
       "\n",
       "   native-country  \n",
       "0   United-States  \n",
       "1   United-States  \n",
       "2   United-States  \n",
       "3   United-States  \n",
       "4   United-States  "
      ]
     },
     "execution_count": 7,
     "metadata": {},
     "output_type": "execute_result"
    }
   ],
   "source": [
    "data = adult_census.drop(columns=[target_name, \"education-num\"])\n",
    "data.head()"
   ]
  },
  {
   "cell_type": "markdown",
   "metadata": {},
   "source": [
    "Once the dataset is loaded, we split it into a training and testing sets."
   ]
  },
  {
   "cell_type": "code",
   "execution_count": 8,
   "metadata": {},
   "outputs": [],
   "source": [
    "from sklearn.model_selection import train_test_split\n",
    "\n",
    "data_train, data_test, target_train, target_test = train_test_split(\n",
    "    data, target, random_state=42)"
   ]
  },
  {
   "cell_type": "markdown",
   "metadata": {},
   "source": [
    "We will define a pipeline as seen in the first module. It will handle both\n",
    "numerical and categorical features.\n",
    "\n",
    "The first step is to select all the categorical columns."
   ]
  },
  {
   "cell_type": "code",
   "execution_count": 9,
   "id": "a4a2e92f",
   "metadata": {},
   "outputs": [
    {
     "data": {
      "text/plain": [
       "['workclass',\n",
       " 'education',\n",
       " 'marital-status',\n",
       " 'occupation',\n",
       " 'relationship',\n",
       " 'race',\n",
       " 'sex',\n",
       " 'native-country']"
      ]
     },
     "execution_count": 9,
     "metadata": {},
     "output_type": "execute_result"
    }
   ],
   "source": [
    "from sklearn.compose import make_column_selector as selector\n",
    "\n",
    "categorical_columns_selector = selector(dtype_include=object)\n",
    "categorical_columns = categorical_columns_selector(data)\n",
    "categorical_columns"
   ]
  },
  {
   "cell_type": "markdown",
   "metadata": {},
   "source": [
    "Here we will use a tree-based model as a classifier\n",
    "(i.e. `HistGradientBoostingClassifier`). That means:\n",
    "\n",
    "* Numerical variables don't need scaling;\n",
    "* Categorical variables can be dealt with an `OrdinalEncoder` even if the \n",
    "  coding order is not meaningful;\n",
    "* For tree-based models, the `OrdinalEncoder` avoids having high-dimensional \n",
    "  representations.\n",
    "\n",
    "We now build our `OrdinalEncoder` by passing it the known categories."
   ]
  },
  {
   "cell_type": "code",
   "execution_count": 16,
   "id": "a4095aa7",
   "metadata": {},
   "outputs": [],
   "source": [
    "from sklearn.preprocessing import OrdinalEncoder\n",
    "\n",
    "categorical_preprocessor = OrdinalEncoder(handle_unknown=\"use_encoded_value\", unknown_value=-1)\n"
   ]
  },
  {
   "cell_type": "markdown",
   "metadata": {},
   "source": [
    "We then use a `ColumnTransformer` to select the categorical columns and\n",
    "apply the `OrdinalEncoder` to them."
   ]
  },
  {
   "cell_type": "code",
   "execution_count": 17,
   "id": "f1e566fa",
   "metadata": {},
   "outputs": [],
   "source": [
    "from sklearn.compose import ColumnTransformer\n",
    "\n",
    "preprocessor = ColumnTransformer([\n",
    "    (\"cat_preprocessor\", categorical_preprocessor, categorical_columns)\n",
    "], remainder=\"passthrough\", sparse_threshold=0)"
   ]
  },
  {
   "cell_type": "markdown",
   "metadata": {},
   "source": [
    "Finally, we use a tree-based classifier (i.e. histogram gradient-boosting) to\n",
    "predict whether or not a person earns more than 50 k$ a year."
   ]
  },
  {
   "cell_type": "code",
   "execution_count": 18,
   "id": "ab44972e",
   "metadata": {},
   "outputs": [
    {
     "data": {
      "text/html": [
       "<style>#sk-1fc6e4ca-2bf0-4497-acf2-b3030870d9c4 {color: black;background-color: white;}#sk-1fc6e4ca-2bf0-4497-acf2-b3030870d9c4 pre{padding: 0;}#sk-1fc6e4ca-2bf0-4497-acf2-b3030870d9c4 div.sk-toggleable {background-color: white;}#sk-1fc6e4ca-2bf0-4497-acf2-b3030870d9c4 label.sk-toggleable__label {cursor: pointer;display: block;width: 100%;margin-bottom: 0;padding: 0.3em;box-sizing: border-box;text-align: center;}#sk-1fc6e4ca-2bf0-4497-acf2-b3030870d9c4 label.sk-toggleable__label-arrow:before {content: \"▸\";float: left;margin-right: 0.25em;color: #696969;}#sk-1fc6e4ca-2bf0-4497-acf2-b3030870d9c4 label.sk-toggleable__label-arrow:hover:before {color: black;}#sk-1fc6e4ca-2bf0-4497-acf2-b3030870d9c4 div.sk-estimator:hover label.sk-toggleable__label-arrow:before {color: black;}#sk-1fc6e4ca-2bf0-4497-acf2-b3030870d9c4 div.sk-toggleable__content {max-height: 0;max-width: 0;overflow: hidden;text-align: left;background-color: #f0f8ff;}#sk-1fc6e4ca-2bf0-4497-acf2-b3030870d9c4 div.sk-toggleable__content pre {margin: 0.2em;color: black;border-radius: 0.25em;background-color: #f0f8ff;}#sk-1fc6e4ca-2bf0-4497-acf2-b3030870d9c4 input.sk-toggleable__control:checked~div.sk-toggleable__content {max-height: 200px;max-width: 100%;overflow: auto;}#sk-1fc6e4ca-2bf0-4497-acf2-b3030870d9c4 input.sk-toggleable__control:checked~label.sk-toggleable__label-arrow:before {content: \"▾\";}#sk-1fc6e4ca-2bf0-4497-acf2-b3030870d9c4 div.sk-estimator input.sk-toggleable__control:checked~label.sk-toggleable__label {background-color: #d4ebff;}#sk-1fc6e4ca-2bf0-4497-acf2-b3030870d9c4 div.sk-label input.sk-toggleable__control:checked~label.sk-toggleable__label {background-color: #d4ebff;}#sk-1fc6e4ca-2bf0-4497-acf2-b3030870d9c4 input.sk-hidden--visually {border: 0;clip: rect(1px 1px 1px 1px);clip: rect(1px, 1px, 1px, 1px);height: 1px;margin: -1px;overflow: hidden;padding: 0;position: absolute;width: 1px;}#sk-1fc6e4ca-2bf0-4497-acf2-b3030870d9c4 div.sk-estimator {font-family: monospace;background-color: #f0f8ff;border: 1px dotted black;border-radius: 0.25em;box-sizing: border-box;margin-bottom: 0.5em;}#sk-1fc6e4ca-2bf0-4497-acf2-b3030870d9c4 div.sk-estimator:hover {background-color: #d4ebff;}#sk-1fc6e4ca-2bf0-4497-acf2-b3030870d9c4 div.sk-parallel-item::after {content: \"\";width: 100%;border-bottom: 1px solid gray;flex-grow: 1;}#sk-1fc6e4ca-2bf0-4497-acf2-b3030870d9c4 div.sk-label:hover label.sk-toggleable__label {background-color: #d4ebff;}#sk-1fc6e4ca-2bf0-4497-acf2-b3030870d9c4 div.sk-serial::before {content: \"\";position: absolute;border-left: 1px solid gray;box-sizing: border-box;top: 2em;bottom: 0;left: 50%;}#sk-1fc6e4ca-2bf0-4497-acf2-b3030870d9c4 div.sk-serial {display: flex;flex-direction: column;align-items: center;background-color: white;padding-right: 0.2em;padding-left: 0.2em;}#sk-1fc6e4ca-2bf0-4497-acf2-b3030870d9c4 div.sk-item {z-index: 1;}#sk-1fc6e4ca-2bf0-4497-acf2-b3030870d9c4 div.sk-parallel {display: flex;align-items: stretch;justify-content: center;background-color: white;}#sk-1fc6e4ca-2bf0-4497-acf2-b3030870d9c4 div.sk-parallel::before {content: \"\";position: absolute;border-left: 1px solid gray;box-sizing: border-box;top: 2em;bottom: 0;left: 50%;}#sk-1fc6e4ca-2bf0-4497-acf2-b3030870d9c4 div.sk-parallel-item {display: flex;flex-direction: column;position: relative;background-color: white;}#sk-1fc6e4ca-2bf0-4497-acf2-b3030870d9c4 div.sk-parallel-item:first-child::after {align-self: flex-end;width: 50%;}#sk-1fc6e4ca-2bf0-4497-acf2-b3030870d9c4 div.sk-parallel-item:last-child::after {align-self: flex-start;width: 50%;}#sk-1fc6e4ca-2bf0-4497-acf2-b3030870d9c4 div.sk-parallel-item:only-child::after {width: 0;}#sk-1fc6e4ca-2bf0-4497-acf2-b3030870d9c4 div.sk-dashed-wrapped {border: 1px dashed gray;margin: 0 0.4em 0.5em 0.4em;box-sizing: border-box;padding-bottom: 0.4em;background-color: white;position: relative;}#sk-1fc6e4ca-2bf0-4497-acf2-b3030870d9c4 div.sk-label label {font-family: monospace;font-weight: bold;background-color: white;display: inline-block;line-height: 1.2em;}#sk-1fc6e4ca-2bf0-4497-acf2-b3030870d9c4 div.sk-label-container {position: relative;z-index: 2;text-align: center;}#sk-1fc6e4ca-2bf0-4497-acf2-b3030870d9c4 div.sk-container {/* jupyter's `normalize.less` sets `[hidden] { display: none; }` but bootstrap.min.css set `[hidden] { display: none !important; }` so we also need the `!important` here to be able to override the default hidden behavior on the sphinx rendered scikit-learn.org. See: https://github.com/scikit-learn/scikit-learn/issues/21755 */display: inline-block !important;position: relative;}#sk-1fc6e4ca-2bf0-4497-acf2-b3030870d9c4 div.sk-text-repr-fallback {display: none;}</style><div id=\"sk-1fc6e4ca-2bf0-4497-acf2-b3030870d9c4\" class=\"sk-top-container\"><div class=\"sk-text-repr-fallback\"><pre>Pipeline(steps=[(&#x27;preprocessor&#x27;,\n",
       "                 ColumnTransformer(remainder=&#x27;passthrough&#x27;, sparse_threshold=0,\n",
       "                                   transformers=[(&#x27;cat_preprocessor&#x27;,\n",
       "                                                  OrdinalEncoder(handle_unknown=&#x27;use_encoded_value&#x27;,\n",
       "                                                                 unknown_value=-1),\n",
       "                                                  [&#x27;workclass&#x27;, &#x27;education&#x27;,\n",
       "                                                   &#x27;marital-status&#x27;,\n",
       "                                                   &#x27;occupation&#x27;, &#x27;relationship&#x27;,\n",
       "                                                   &#x27;race&#x27;, &#x27;sex&#x27;,\n",
       "                                                   &#x27;native-country&#x27;])])),\n",
       "                (&#x27;classifier&#x27;,\n",
       "                 HistGradientBoostingClassifier(max_leaf_nodes=4,\n",
       "                                                random_state=42))])</pre><b>Please rerun this cell to show the HTML repr or trust the notebook.</b></div><div class=\"sk-container\" hidden><div class=\"sk-item sk-dashed-wrapped\"><div class=\"sk-label-container\"><div class=\"sk-label sk-toggleable\"><input class=\"sk-toggleable__control sk-hidden--visually\" id=\"f4a7480a-0f6e-46f7-9731-fa3e45107ae2\" type=\"checkbox\" ><label for=\"f4a7480a-0f6e-46f7-9731-fa3e45107ae2\" class=\"sk-toggleable__label sk-toggleable__label-arrow\">Pipeline</label><div class=\"sk-toggleable__content\"><pre>Pipeline(steps=[(&#x27;preprocessor&#x27;,\n",
       "                 ColumnTransformer(remainder=&#x27;passthrough&#x27;, sparse_threshold=0,\n",
       "                                   transformers=[(&#x27;cat_preprocessor&#x27;,\n",
       "                                                  OrdinalEncoder(handle_unknown=&#x27;use_encoded_value&#x27;,\n",
       "                                                                 unknown_value=-1),\n",
       "                                                  [&#x27;workclass&#x27;, &#x27;education&#x27;,\n",
       "                                                   &#x27;marital-status&#x27;,\n",
       "                                                   &#x27;occupation&#x27;, &#x27;relationship&#x27;,\n",
       "                                                   &#x27;race&#x27;, &#x27;sex&#x27;,\n",
       "                                                   &#x27;native-country&#x27;])])),\n",
       "                (&#x27;classifier&#x27;,\n",
       "                 HistGradientBoostingClassifier(max_leaf_nodes=4,\n",
       "                                                random_state=42))])</pre></div></div></div><div class=\"sk-serial\"><div class=\"sk-item sk-dashed-wrapped\"><div class=\"sk-label-container\"><div class=\"sk-label sk-toggleable\"><input class=\"sk-toggleable__control sk-hidden--visually\" id=\"7df36b5a-03fe-4a7b-bb5b-4ea07376b940\" type=\"checkbox\" ><label for=\"7df36b5a-03fe-4a7b-bb5b-4ea07376b940\" class=\"sk-toggleable__label sk-toggleable__label-arrow\">preprocessor: ColumnTransformer</label><div class=\"sk-toggleable__content\"><pre>ColumnTransformer(remainder=&#x27;passthrough&#x27;, sparse_threshold=0,\n",
       "                  transformers=[(&#x27;cat_preprocessor&#x27;,\n",
       "                                 OrdinalEncoder(handle_unknown=&#x27;use_encoded_value&#x27;,\n",
       "                                                unknown_value=-1),\n",
       "                                 [&#x27;workclass&#x27;, &#x27;education&#x27;, &#x27;marital-status&#x27;,\n",
       "                                  &#x27;occupation&#x27;, &#x27;relationship&#x27;, &#x27;race&#x27;, &#x27;sex&#x27;,\n",
       "                                  &#x27;native-country&#x27;])])</pre></div></div></div><div class=\"sk-parallel\"><div class=\"sk-parallel-item\"><div class=\"sk-item\"><div class=\"sk-label-container\"><div class=\"sk-label sk-toggleable\"><input class=\"sk-toggleable__control sk-hidden--visually\" id=\"91f28938-1279-40fc-99ce-d939d0d6b2cc\" type=\"checkbox\" ><label for=\"91f28938-1279-40fc-99ce-d939d0d6b2cc\" class=\"sk-toggleable__label sk-toggleable__label-arrow\">cat_preprocessor</label><div class=\"sk-toggleable__content\"><pre>[&#x27;workclass&#x27;, &#x27;education&#x27;, &#x27;marital-status&#x27;, &#x27;occupation&#x27;, &#x27;relationship&#x27;, &#x27;race&#x27;, &#x27;sex&#x27;, &#x27;native-country&#x27;]</pre></div></div></div><div class=\"sk-serial\"><div class=\"sk-item\"><div class=\"sk-estimator sk-toggleable\"><input class=\"sk-toggleable__control sk-hidden--visually\" id=\"95026c67-2b40-45e8-9af1-92b5ad13c34d\" type=\"checkbox\" ><label for=\"95026c67-2b40-45e8-9af1-92b5ad13c34d\" class=\"sk-toggleable__label sk-toggleable__label-arrow\">OrdinalEncoder</label><div class=\"sk-toggleable__content\"><pre>OrdinalEncoder(handle_unknown=&#x27;use_encoded_value&#x27;, unknown_value=-1)</pre></div></div></div></div></div></div><div class=\"sk-parallel-item\"><div class=\"sk-item\"><div class=\"sk-label-container\"><div class=\"sk-label sk-toggleable\"><input class=\"sk-toggleable__control sk-hidden--visually\" id=\"6daa6348-815d-4048-834c-b848632d1ec9\" type=\"checkbox\" ><label for=\"6daa6348-815d-4048-834c-b848632d1ec9\" class=\"sk-toggleable__label sk-toggleable__label-arrow\">remainder</label><div class=\"sk-toggleable__content\"><pre></pre></div></div></div><div class=\"sk-serial\"><div class=\"sk-item\"><div class=\"sk-estimator sk-toggleable\"><input class=\"sk-toggleable__control sk-hidden--visually\" id=\"8f037dc2-1cc8-40cc-a760-190654d0344e\" type=\"checkbox\" ><label for=\"8f037dc2-1cc8-40cc-a760-190654d0344e\" class=\"sk-toggleable__label sk-toggleable__label-arrow\">passthrough</label><div class=\"sk-toggleable__content\"><pre>passthrough</pre></div></div></div></div></div></div></div></div><div class=\"sk-item\"><div class=\"sk-estimator sk-toggleable\"><input class=\"sk-toggleable__control sk-hidden--visually\" id=\"be057564-683e-4f6e-a2bb-58bc6168aa2d\" type=\"checkbox\" ><label for=\"be057564-683e-4f6e-a2bb-58bc6168aa2d\" class=\"sk-toggleable__label sk-toggleable__label-arrow\">HistGradientBoostingClassifier</label><div class=\"sk-toggleable__content\"><pre>HistGradientBoostingClassifier(max_leaf_nodes=4, random_state=42)</pre></div></div></div></div></div></div></div>"
      ],
      "text/plain": [
       "Pipeline(steps=[('preprocessor',\n",
       "                 ColumnTransformer(remainder='passthrough', sparse_threshold=0,\n",
       "                                   transformers=[('cat_preprocessor',\n",
       "                                                  OrdinalEncoder(handle_unknown='use_encoded_value',\n",
       "                                                                 unknown_value=-1),\n",
       "                                                  ['workclass', 'education',\n",
       "                                                   'marital-status',\n",
       "                                                   'occupation', 'relationship',\n",
       "                                                   'race', 'sex',\n",
       "                                                   'native-country'])])),\n",
       "                ('classifier',\n",
       "                 HistGradientBoostingClassifier(max_leaf_nodes=4,\n",
       "                                                random_state=42))])"
      ]
     },
     "execution_count": 18,
     "metadata": {},
     "output_type": "execute_result"
    }
   ],
   "source": [
    "from sklearn.ensemble import HistGradientBoostingClassifier\n",
    "from sklearn.pipeline import Pipeline\n",
    "from sklearn import set_config\n",
    "\n",
    "set_config(display=\"diagram\") \n",
    "\n",
    "model = Pipeline([\n",
    "    (\"preprocessor\", preprocessor),\n",
    "    (\"classifier\", HistGradientBoostingClassifier(random_state=42, max_leaf_nodes=4))\n",
    "])\n",
    "\n",
    "model"
   ]
  },
  {
   "cell_type": "markdown",
   "metadata": {},
   "source": [
    "## Tuning using a grid-search\n",
    "\n",
    "In the previous exercise we used one `for` loop for each hyperparameter to find the \n",
    "best combination over a fixed grid of values. `GridSearchCV` is a scikit-learn class \n",
    "that implements a very similar logic with less repetitive code.\n",
    "\n",
    "Let's see how to use the `GridSearchCV` estimator for doing such search.\n",
    "Since the grid-search will be costly, we will only explore the combination\n",
    "learning-rate and the maximum number of nodes."
   ]
  },
  {
   "cell_type": "code",
   "execution_count": 20,
   "id": "bf346e21",
   "metadata": {},
   "outputs": [
    {
     "data": {
      "text/html": [
       "<style>#sk-c010bd7e-0c95-459f-a19c-21e4680b4bc9 {color: black;background-color: white;}#sk-c010bd7e-0c95-459f-a19c-21e4680b4bc9 pre{padding: 0;}#sk-c010bd7e-0c95-459f-a19c-21e4680b4bc9 div.sk-toggleable {background-color: white;}#sk-c010bd7e-0c95-459f-a19c-21e4680b4bc9 label.sk-toggleable__label {cursor: pointer;display: block;width: 100%;margin-bottom: 0;padding: 0.3em;box-sizing: border-box;text-align: center;}#sk-c010bd7e-0c95-459f-a19c-21e4680b4bc9 label.sk-toggleable__label-arrow:before {content: \"▸\";float: left;margin-right: 0.25em;color: #696969;}#sk-c010bd7e-0c95-459f-a19c-21e4680b4bc9 label.sk-toggleable__label-arrow:hover:before {color: black;}#sk-c010bd7e-0c95-459f-a19c-21e4680b4bc9 div.sk-estimator:hover label.sk-toggleable__label-arrow:before {color: black;}#sk-c010bd7e-0c95-459f-a19c-21e4680b4bc9 div.sk-toggleable__content {max-height: 0;max-width: 0;overflow: hidden;text-align: left;background-color: #f0f8ff;}#sk-c010bd7e-0c95-459f-a19c-21e4680b4bc9 div.sk-toggleable__content pre {margin: 0.2em;color: black;border-radius: 0.25em;background-color: #f0f8ff;}#sk-c010bd7e-0c95-459f-a19c-21e4680b4bc9 input.sk-toggleable__control:checked~div.sk-toggleable__content {max-height: 200px;max-width: 100%;overflow: auto;}#sk-c010bd7e-0c95-459f-a19c-21e4680b4bc9 input.sk-toggleable__control:checked~label.sk-toggleable__label-arrow:before {content: \"▾\";}#sk-c010bd7e-0c95-459f-a19c-21e4680b4bc9 div.sk-estimator input.sk-toggleable__control:checked~label.sk-toggleable__label {background-color: #d4ebff;}#sk-c010bd7e-0c95-459f-a19c-21e4680b4bc9 div.sk-label input.sk-toggleable__control:checked~label.sk-toggleable__label {background-color: #d4ebff;}#sk-c010bd7e-0c95-459f-a19c-21e4680b4bc9 input.sk-hidden--visually {border: 0;clip: rect(1px 1px 1px 1px);clip: rect(1px, 1px, 1px, 1px);height: 1px;margin: -1px;overflow: hidden;padding: 0;position: absolute;width: 1px;}#sk-c010bd7e-0c95-459f-a19c-21e4680b4bc9 div.sk-estimator {font-family: monospace;background-color: #f0f8ff;border: 1px dotted black;border-radius: 0.25em;box-sizing: border-box;margin-bottom: 0.5em;}#sk-c010bd7e-0c95-459f-a19c-21e4680b4bc9 div.sk-estimator:hover {background-color: #d4ebff;}#sk-c010bd7e-0c95-459f-a19c-21e4680b4bc9 div.sk-parallel-item::after {content: \"\";width: 100%;border-bottom: 1px solid gray;flex-grow: 1;}#sk-c010bd7e-0c95-459f-a19c-21e4680b4bc9 div.sk-label:hover label.sk-toggleable__label {background-color: #d4ebff;}#sk-c010bd7e-0c95-459f-a19c-21e4680b4bc9 div.sk-serial::before {content: \"\";position: absolute;border-left: 1px solid gray;box-sizing: border-box;top: 2em;bottom: 0;left: 50%;}#sk-c010bd7e-0c95-459f-a19c-21e4680b4bc9 div.sk-serial {display: flex;flex-direction: column;align-items: center;background-color: white;padding-right: 0.2em;padding-left: 0.2em;}#sk-c010bd7e-0c95-459f-a19c-21e4680b4bc9 div.sk-item {z-index: 1;}#sk-c010bd7e-0c95-459f-a19c-21e4680b4bc9 div.sk-parallel {display: flex;align-items: stretch;justify-content: center;background-color: white;}#sk-c010bd7e-0c95-459f-a19c-21e4680b4bc9 div.sk-parallel::before {content: \"\";position: absolute;border-left: 1px solid gray;box-sizing: border-box;top: 2em;bottom: 0;left: 50%;}#sk-c010bd7e-0c95-459f-a19c-21e4680b4bc9 div.sk-parallel-item {display: flex;flex-direction: column;position: relative;background-color: white;}#sk-c010bd7e-0c95-459f-a19c-21e4680b4bc9 div.sk-parallel-item:first-child::after {align-self: flex-end;width: 50%;}#sk-c010bd7e-0c95-459f-a19c-21e4680b4bc9 div.sk-parallel-item:last-child::after {align-self: flex-start;width: 50%;}#sk-c010bd7e-0c95-459f-a19c-21e4680b4bc9 div.sk-parallel-item:only-child::after {width: 0;}#sk-c010bd7e-0c95-459f-a19c-21e4680b4bc9 div.sk-dashed-wrapped {border: 1px dashed gray;margin: 0 0.4em 0.5em 0.4em;box-sizing: border-box;padding-bottom: 0.4em;background-color: white;position: relative;}#sk-c010bd7e-0c95-459f-a19c-21e4680b4bc9 div.sk-label label {font-family: monospace;font-weight: bold;background-color: white;display: inline-block;line-height: 1.2em;}#sk-c010bd7e-0c95-459f-a19c-21e4680b4bc9 div.sk-label-container {position: relative;z-index: 2;text-align: center;}#sk-c010bd7e-0c95-459f-a19c-21e4680b4bc9 div.sk-container {/* jupyter's `normalize.less` sets `[hidden] { display: none; }` but bootstrap.min.css set `[hidden] { display: none !important; }` so we also need the `!important` here to be able to override the default hidden behavior on the sphinx rendered scikit-learn.org. See: https://github.com/scikit-learn/scikit-learn/issues/21755 */display: inline-block !important;position: relative;}#sk-c010bd7e-0c95-459f-a19c-21e4680b4bc9 div.sk-text-repr-fallback {display: none;}</style><div id=\"sk-c010bd7e-0c95-459f-a19c-21e4680b4bc9\" class=\"sk-top-container\"><div class=\"sk-text-repr-fallback\"><pre>GridSearchCV(cv=2,\n",
       "             estimator=Pipeline(steps=[(&#x27;preprocessor&#x27;,\n",
       "                                        ColumnTransformer(remainder=&#x27;passthrough&#x27;,\n",
       "                                                          sparse_threshold=0,\n",
       "                                                          transformers=[(&#x27;cat_preprocessor&#x27;,\n",
       "                                                                         OrdinalEncoder(handle_unknown=&#x27;use_encoded_value&#x27;,\n",
       "                                                                                        unknown_value=-1),\n",
       "                                                                         [&#x27;workclass&#x27;,\n",
       "                                                                          &#x27;education&#x27;,\n",
       "                                                                          &#x27;marital-status&#x27;,\n",
       "                                                                          &#x27;occupation&#x27;,\n",
       "                                                                          &#x27;relationship&#x27;,\n",
       "                                                                          &#x27;race&#x27;,\n",
       "                                                                          &#x27;sex&#x27;,\n",
       "                                                                          &#x27;native-country&#x27;])])),\n",
       "                                       (&#x27;classifier&#x27;,\n",
       "                                        HistGradientBoostingClassifier(max_leaf_nodes=4,\n",
       "                                                                       random_state=42))]),\n",
       "             n_jobs=2,\n",
       "             param_grid={&#x27;classifier__learning_rate&#x27;: (0.01, 0.1, 1, 10),\n",
       "                         &#x27;classifier__max_leaf_nodes&#x27;: (3, 10, 30)})</pre><b>Please rerun this cell to show the HTML repr or trust the notebook.</b></div><div class=\"sk-container\" hidden><div class=\"sk-item sk-dashed-wrapped\"><div class=\"sk-label-container\"><div class=\"sk-label sk-toggleable\"><input class=\"sk-toggleable__control sk-hidden--visually\" id=\"1ee87051-fcd2-45bb-b910-59464f1886fe\" type=\"checkbox\" ><label for=\"1ee87051-fcd2-45bb-b910-59464f1886fe\" class=\"sk-toggleable__label sk-toggleable__label-arrow\">GridSearchCV</label><div class=\"sk-toggleable__content\"><pre>GridSearchCV(cv=2,\n",
       "             estimator=Pipeline(steps=[(&#x27;preprocessor&#x27;,\n",
       "                                        ColumnTransformer(remainder=&#x27;passthrough&#x27;,\n",
       "                                                          sparse_threshold=0,\n",
       "                                                          transformers=[(&#x27;cat_preprocessor&#x27;,\n",
       "                                                                         OrdinalEncoder(handle_unknown=&#x27;use_encoded_value&#x27;,\n",
       "                                                                                        unknown_value=-1),\n",
       "                                                                         [&#x27;workclass&#x27;,\n",
       "                                                                          &#x27;education&#x27;,\n",
       "                                                                          &#x27;marital-status&#x27;,\n",
       "                                                                          &#x27;occupation&#x27;,\n",
       "                                                                          &#x27;relationship&#x27;,\n",
       "                                                                          &#x27;race&#x27;,\n",
       "                                                                          &#x27;sex&#x27;,\n",
       "                                                                          &#x27;native-country&#x27;])])),\n",
       "                                       (&#x27;classifier&#x27;,\n",
       "                                        HistGradientBoostingClassifier(max_leaf_nodes=4,\n",
       "                                                                       random_state=42))]),\n",
       "             n_jobs=2,\n",
       "             param_grid={&#x27;classifier__learning_rate&#x27;: (0.01, 0.1, 1, 10),\n",
       "                         &#x27;classifier__max_leaf_nodes&#x27;: (3, 10, 30)})</pre></div></div></div><div class=\"sk-parallel\"><div class=\"sk-parallel-item\"><div class=\"sk-item\"><div class=\"sk-serial\"><div class=\"sk-item\"><div class=\"sk-serial\"><div class=\"sk-item sk-dashed-wrapped\"><div class=\"sk-label-container\"><div class=\"sk-label sk-toggleable\"><input class=\"sk-toggleable__control sk-hidden--visually\" id=\"4b3ac4c8-b630-4438-8cbf-adde267a7945\" type=\"checkbox\" ><label for=\"4b3ac4c8-b630-4438-8cbf-adde267a7945\" class=\"sk-toggleable__label sk-toggleable__label-arrow\">preprocessor: ColumnTransformer</label><div class=\"sk-toggleable__content\"><pre>ColumnTransformer(remainder=&#x27;passthrough&#x27;, sparse_threshold=0,\n",
       "                  transformers=[(&#x27;cat_preprocessor&#x27;,\n",
       "                                 OrdinalEncoder(handle_unknown=&#x27;use_encoded_value&#x27;,\n",
       "                                                unknown_value=-1),\n",
       "                                 [&#x27;workclass&#x27;, &#x27;education&#x27;, &#x27;marital-status&#x27;,\n",
       "                                  &#x27;occupation&#x27;, &#x27;relationship&#x27;, &#x27;race&#x27;, &#x27;sex&#x27;,\n",
       "                                  &#x27;native-country&#x27;])])</pre></div></div></div><div class=\"sk-parallel\"><div class=\"sk-parallel-item\"><div class=\"sk-item\"><div class=\"sk-label-container\"><div class=\"sk-label sk-toggleable\"><input class=\"sk-toggleable__control sk-hidden--visually\" id=\"d8ffc068-6f1e-41d8-8eff-f29d60c53a4e\" type=\"checkbox\" ><label for=\"d8ffc068-6f1e-41d8-8eff-f29d60c53a4e\" class=\"sk-toggleable__label sk-toggleable__label-arrow\">cat_preprocessor</label><div class=\"sk-toggleable__content\"><pre>[&#x27;workclass&#x27;, &#x27;education&#x27;, &#x27;marital-status&#x27;, &#x27;occupation&#x27;, &#x27;relationship&#x27;, &#x27;race&#x27;, &#x27;sex&#x27;, &#x27;native-country&#x27;]</pre></div></div></div><div class=\"sk-serial\"><div class=\"sk-item\"><div class=\"sk-estimator sk-toggleable\"><input class=\"sk-toggleable__control sk-hidden--visually\" id=\"f695e7d5-59fc-48ee-bf0f-eb2b48ec1fa6\" type=\"checkbox\" ><label for=\"f695e7d5-59fc-48ee-bf0f-eb2b48ec1fa6\" class=\"sk-toggleable__label sk-toggleable__label-arrow\">OrdinalEncoder</label><div class=\"sk-toggleable__content\"><pre>OrdinalEncoder(handle_unknown=&#x27;use_encoded_value&#x27;, unknown_value=-1)</pre></div></div></div></div></div></div><div class=\"sk-parallel-item\"><div class=\"sk-item\"><div class=\"sk-label-container\"><div class=\"sk-label sk-toggleable\"><input class=\"sk-toggleable__control sk-hidden--visually\" id=\"ee10b3c5-9328-4ac1-b038-004b781bd449\" type=\"checkbox\" ><label for=\"ee10b3c5-9328-4ac1-b038-004b781bd449\" class=\"sk-toggleable__label sk-toggleable__label-arrow\">remainder</label><div class=\"sk-toggleable__content\"><pre>[&#x27;age&#x27;, &#x27;capital-gain&#x27;, &#x27;capital-loss&#x27;, &#x27;hours-per-week&#x27;]</pre></div></div></div><div class=\"sk-serial\"><div class=\"sk-item\"><div class=\"sk-estimator sk-toggleable\"><input class=\"sk-toggleable__control sk-hidden--visually\" id=\"c7a1ff9e-81be-468e-a0da-f40ed95395ad\" type=\"checkbox\" ><label for=\"c7a1ff9e-81be-468e-a0da-f40ed95395ad\" class=\"sk-toggleable__label sk-toggleable__label-arrow\">passthrough</label><div class=\"sk-toggleable__content\"><pre>passthrough</pre></div></div></div></div></div></div></div></div><div class=\"sk-item\"><div class=\"sk-estimator sk-toggleable\"><input class=\"sk-toggleable__control sk-hidden--visually\" id=\"e9cc3920-9f6f-4ac3-84c1-8a53f229acd1\" type=\"checkbox\" ><label for=\"e9cc3920-9f6f-4ac3-84c1-8a53f229acd1\" class=\"sk-toggleable__label sk-toggleable__label-arrow\">HistGradientBoostingClassifier</label><div class=\"sk-toggleable__content\"><pre>HistGradientBoostingClassifier(max_leaf_nodes=4, random_state=42)</pre></div></div></div></div></div></div></div></div></div></div></div></div>"
      ],
      "text/plain": [
       "GridSearchCV(cv=2,\n",
       "             estimator=Pipeline(steps=[('preprocessor',\n",
       "                                        ColumnTransformer(remainder='passthrough',\n",
       "                                                          sparse_threshold=0,\n",
       "                                                          transformers=[('cat_preprocessor',\n",
       "                                                                         OrdinalEncoder(handle_unknown='use_encoded_value',\n",
       "                                                                                        unknown_value=-1),\n",
       "                                                                         ['workclass',\n",
       "                                                                          'education',\n",
       "                                                                          'marital-status',\n",
       "                                                                          'occupation',\n",
       "                                                                          'relationship',\n",
       "                                                                          'race',\n",
       "                                                                          'sex',\n",
       "                                                                          'native-country'])])),\n",
       "                                       ('classifier',\n",
       "                                        HistGradientBoostingClassifier(max_leaf_nodes=4,\n",
       "                                                                       random_state=42))]),\n",
       "             n_jobs=2,\n",
       "             param_grid={'classifier__learning_rate': (0.01, 0.1, 1, 10),\n",
       "                         'classifier__max_leaf_nodes': (3, 10, 30)})"
      ]
     },
     "execution_count": 20,
     "metadata": {},
     "output_type": "execute_result"
    }
   ],
   "source": [
    "from sklearn.model_selection import GridSearchCV\n",
    "\n",
    "param_grid = {\n",
    "    'classifier__learning_rate': (0.01, 0.1, 1, 10),\n",
    "    'classifier__max_leaf_nodes': (3, 10, 30)\n",
    "}\n",
    "\n",
    "model_grid_search = GridSearchCV(\n",
    "    model,\n",
    "    param_grid=param_grid,\n",
    "    n_jobs=2,\n",
    "    cv=2\n",
    ")\n",
    "\n",
    "model_grid_search.fit(data_train, target_train)"
   ]
  },
  {
   "cell_type": "markdown",
   "metadata": {},
   "source": [
    "Finally, we will check the accuracy of our model using the test set."
   ]
  },
  {
   "cell_type": "code",
   "execution_count": 21,
   "id": "93073737",
   "metadata": {},
   "outputs": [
    {
     "data": {
      "text/plain": [
       "0.8789615920072066"
      ]
     },
     "execution_count": 21,
     "metadata": {},
     "output_type": "execute_result"
    }
   ],
   "source": [
    "model_grid_search.score(data_test, target_test)"
   ]
  },
  {
   "cell_type": "code",
   "execution_count": null,
   "metadata": {},
   "outputs": [],
   "source": [
    "accuracy = model_grid_search.score(data_test, target_test)\n",
    "print(\n",
    "    f\"The test accuracy score of the grid-searched pipeline is: \"\n",
    "    f\"{accuracy:.2f}\"\n",
    ")"
   ]
  },
  {
   "cell_type": "markdown",
   "metadata": {},
   "source": [
    "<div class=\"admonition warning alert alert-danger\">\n",
    "<p class=\"first admonition-title\" style=\"font-weight: bold;\">Warning</p>\n",
    "<p>Be aware that the evaluation should normally be performed through\n",
    "cross-validation by providing <tt class=\"docutils literal\">model_grid_search</tt> as a model to the\n",
    "<tt class=\"docutils literal\">cross_validate</tt> function.</p>\n",
    "<p class=\"last\">Here, we used a single train-test split to to evaluate <tt class=\"docutils literal\">model_grid_search</tt>.\n",
    "In a future notebook will go into more detail about nested cross-validation,\n",
    "when you use cross-validation both for hyperparameter tuning and model\n",
    "evaluation.</p>\n",
    "</div>"
   ]
  },
  {
   "cell_type": "markdown",
   "metadata": {},
   "source": [
    "The `GridSearchCV` estimator takes a `param_grid` parameter which defines\n",
    "all hyperparameters and their associated values. The grid-search will be in\n",
    "charge of creating all possible combinations and test them.\n",
    "\n",
    "The number of combinations will be equal to the product of the\n",
    "number of values to explore for each parameter (e.g. in our example 4 x 3\n",
    "combinations). Thus, adding new parameters with their associated values to be\n",
    "explored become rapidly computationally expensive.\n",
    "\n",
    "Once the grid-search is fitted, it can be used as any other predictor by\n",
    "calling `predict` and `predict_proba`. Internally, it will use the model with\n",
    "the best parameters found during `fit`.\n",
    "\n",
    "Get predictions for the 5 first samples using the estimator with the best\n",
    "parameters."
   ]
  },
  {
   "cell_type": "code",
   "execution_count": 22,
   "metadata": {},
   "outputs": [
    {
     "data": {
      "text/plain": [
       "array([' <=50K', ' <=50K', ' >50K', ' <=50K', ' >50K'], dtype=object)"
      ]
     },
     "execution_count": 22,
     "metadata": {},
     "output_type": "execute_result"
    }
   ],
   "source": [
    "model_grid_search.predict(data_test.iloc[0:5])"
   ]
  },
  {
   "cell_type": "markdown",
   "metadata": {},
   "source": [
    "You can know about these parameters by looking at the `best_params_`\n",
    "attribute."
   ]
  },
  {
   "cell_type": "code",
   "execution_count": 24,
   "id": "c6a562e9",
   "metadata": {},
   "outputs": [
    {
     "data": {
      "text/plain": [
       "{'classifier__learning_rate': 0.1, 'classifier__max_leaf_nodes': 30}"
      ]
     },
     "execution_count": 24,
     "metadata": {},
     "output_type": "execute_result"
    }
   ],
   "source": [
    "model_grid_search.best_params_"
   ]
  },
  {
   "cell_type": "code",
   "execution_count": null,
   "metadata": {},
   "outputs": [],
   "source": [
    "print(f\"The best set of parameters is: \"\n",
    "      f\"{model_grid_search.best_params_}\")"
   ]
  },
  {
   "cell_type": "markdown",
   "metadata": {},
   "source": [
    "The accuracy and the best parameters of the grid-searched pipeline are\n",
    "similar to the ones we found in the previous exercise, where we searched the\n",
    "best parameters \"by hand\" through a double for loop.\n",
    "\n",
    "In addition, we can inspect all results which are stored in the attribute\n",
    "`cv_results_` of the grid-search. We will filter some specific columns\n",
    "from these results."
   ]
  },
  {
   "cell_type": "markdown",
   "id": "0e6d4da9",
   "metadata": {},
   "source": [
    "The grid_search run with 2 folds in each combination, and summarize the results on the cv_results_, calculating the mean, std metrics."
   ]
  },
  {
   "cell_type": "code",
   "execution_count": 29,
   "id": "01d10ffa",
   "metadata": {},
   "outputs": [
    {
     "data": {
      "text/html": [
       "<div>\n",
       "<style scoped>\n",
       "    .dataframe tbody tr th:only-of-type {\n",
       "        vertical-align: middle;\n",
       "    }\n",
       "\n",
       "    .dataframe tbody tr th {\n",
       "        vertical-align: top;\n",
       "    }\n",
       "\n",
       "    .dataframe thead th {\n",
       "        text-align: right;\n",
       "    }\n",
       "</style>\n",
       "<table border=\"1\" class=\"dataframe\">\n",
       "  <thead>\n",
       "    <tr style=\"text-align: right;\">\n",
       "      <th></th>\n",
       "      <th>mean_fit_time</th>\n",
       "      <th>std_fit_time</th>\n",
       "      <th>mean_score_time</th>\n",
       "      <th>std_score_time</th>\n",
       "      <th>param_classifier__learning_rate</th>\n",
       "      <th>param_classifier__max_leaf_nodes</th>\n",
       "      <th>params</th>\n",
       "      <th>split0_test_score</th>\n",
       "      <th>split1_test_score</th>\n",
       "      <th>mean_test_score</th>\n",
       "      <th>std_test_score</th>\n",
       "      <th>rank_test_score</th>\n",
       "    </tr>\n",
       "  </thead>\n",
       "  <tbody>\n",
       "    <tr>\n",
       "      <th>5</th>\n",
       "      <td>0.381047</td>\n",
       "      <td>0.035183</td>\n",
       "      <td>0.080053</td>\n",
       "      <td>0.002716</td>\n",
       "      <td>0.1</td>\n",
       "      <td>30</td>\n",
       "      <td>{'classifier__learning_rate': 0.1, 'classifier...</td>\n",
       "      <td>0.868912</td>\n",
       "      <td>0.867213</td>\n",
       "      <td>0.868063</td>\n",
       "      <td>0.000850</td>\n",
       "      <td>1</td>\n",
       "    </tr>\n",
       "    <tr>\n",
       "      <th>4</th>\n",
       "      <td>0.227645</td>\n",
       "      <td>0.002161</td>\n",
       "      <td>0.079519</td>\n",
       "      <td>0.010898</td>\n",
       "      <td>0.1</td>\n",
       "      <td>10</td>\n",
       "      <td>{'classifier__learning_rate': 0.1, 'classifier...</td>\n",
       "      <td>0.866783</td>\n",
       "      <td>0.866066</td>\n",
       "      <td>0.866425</td>\n",
       "      <td>0.000359</td>\n",
       "      <td>2</td>\n",
       "    </tr>\n",
       "    <tr>\n",
       "      <th>7</th>\n",
       "      <td>0.082939</td>\n",
       "      <td>0.001496</td>\n",
       "      <td>0.052473</td>\n",
       "      <td>0.002439</td>\n",
       "      <td>1</td>\n",
       "      <td>10</td>\n",
       "      <td>{'classifier__learning_rate': 1, 'classifier__...</td>\n",
       "      <td>0.854826</td>\n",
       "      <td>0.862899</td>\n",
       "      <td>0.858863</td>\n",
       "      <td>0.004036</td>\n",
       "      <td>3</td>\n",
       "    </tr>\n",
       "    <tr>\n",
       "      <th>6</th>\n",
       "      <td>0.112903</td>\n",
       "      <td>0.028785</td>\n",
       "      <td>0.055016</td>\n",
       "      <td>0.002142</td>\n",
       "      <td>1</td>\n",
       "      <td>3</td>\n",
       "      <td>{'classifier__learning_rate': 1, 'classifier__...</td>\n",
       "      <td>0.853844</td>\n",
       "      <td>0.860934</td>\n",
       "      <td>0.857389</td>\n",
       "      <td>0.003545</td>\n",
       "      <td>4</td>\n",
       "    </tr>\n",
       "    <tr>\n",
       "      <th>3</th>\n",
       "      <td>0.160095</td>\n",
       "      <td>0.006701</td>\n",
       "      <td>0.071630</td>\n",
       "      <td>0.009654</td>\n",
       "      <td>0.1</td>\n",
       "      <td>3</td>\n",
       "      <td>{'classifier__learning_rate': 0.1, 'classifier...</td>\n",
       "      <td>0.852752</td>\n",
       "      <td>0.853781</td>\n",
       "      <td>0.853266</td>\n",
       "      <td>0.000515</td>\n",
       "      <td>5</td>\n",
       "    </tr>\n",
       "    <tr>\n",
       "      <th>8</th>\n",
       "      <td>0.099295</td>\n",
       "      <td>0.002143</td>\n",
       "      <td>0.054376</td>\n",
       "      <td>0.003394</td>\n",
       "      <td>1</td>\n",
       "      <td>30</td>\n",
       "      <td>{'classifier__learning_rate': 1, 'classifier__...</td>\n",
       "      <td>0.853734</td>\n",
       "      <td>0.848321</td>\n",
       "      <td>0.851028</td>\n",
       "      <td>0.002707</td>\n",
       "      <td>6</td>\n",
       "    </tr>\n",
       "    <tr>\n",
       "      <th>2</th>\n",
       "      <td>0.456720</td>\n",
       "      <td>0.040368</td>\n",
       "      <td>0.082239</td>\n",
       "      <td>0.005001</td>\n",
       "      <td>0.01</td>\n",
       "      <td>30</td>\n",
       "      <td>{'classifier__learning_rate': 0.01, 'classifie...</td>\n",
       "      <td>0.840413</td>\n",
       "      <td>0.846246</td>\n",
       "      <td>0.843330</td>\n",
       "      <td>0.002917</td>\n",
       "      <td>7</td>\n",
       "    </tr>\n",
       "    <tr>\n",
       "      <th>1</th>\n",
       "      <td>0.248021</td>\n",
       "      <td>0.023050</td>\n",
       "      <td>0.088761</td>\n",
       "      <td>0.013055</td>\n",
       "      <td>0.01</td>\n",
       "      <td>10</td>\n",
       "      <td>{'classifier__learning_rate': 0.01, 'classifie...</td>\n",
       "      <td>0.818956</td>\n",
       "      <td>0.816708</td>\n",
       "      <td>0.817832</td>\n",
       "      <td>0.001124</td>\n",
       "      <td>8</td>\n",
       "    </tr>\n",
       "    <tr>\n",
       "      <th>0</th>\n",
       "      <td>0.161779</td>\n",
       "      <td>0.007583</td>\n",
       "      <td>0.069206</td>\n",
       "      <td>0.003490</td>\n",
       "      <td>0.01</td>\n",
       "      <td>3</td>\n",
       "      <td>{'classifier__learning_rate': 0.01, 'classifie...</td>\n",
       "      <td>0.797882</td>\n",
       "      <td>0.796451</td>\n",
       "      <td>0.797166</td>\n",
       "      <td>0.000715</td>\n",
       "      <td>9</td>\n",
       "    </tr>\n",
       "    <tr>\n",
       "      <th>10</th>\n",
       "      <td>0.058405</td>\n",
       "      <td>0.001788</td>\n",
       "      <td>0.047660</td>\n",
       "      <td>0.003175</td>\n",
       "      <td>10</td>\n",
       "      <td>10</td>\n",
       "      <td>{'classifier__learning_rate': 10, 'classifier_...</td>\n",
       "      <td>0.742356</td>\n",
       "      <td>0.493803</td>\n",
       "      <td>0.618080</td>\n",
       "      <td>0.124277</td>\n",
       "      <td>10</td>\n",
       "    </tr>\n",
       "    <tr>\n",
       "      <th>11</th>\n",
       "      <td>0.059392</td>\n",
       "      <td>0.003283</td>\n",
       "      <td>0.046567</td>\n",
       "      <td>0.000128</td>\n",
       "      <td>10</td>\n",
       "      <td>30</td>\n",
       "      <td>{'classifier__learning_rate': 10, 'classifier_...</td>\n",
       "      <td>0.759937</td>\n",
       "      <td>0.338739</td>\n",
       "      <td>0.549338</td>\n",
       "      <td>0.210599</td>\n",
       "      <td>11</td>\n",
       "    </tr>\n",
       "    <tr>\n",
       "      <th>9</th>\n",
       "      <td>0.053236</td>\n",
       "      <td>0.001060</td>\n",
       "      <td>0.052291</td>\n",
       "      <td>0.000939</td>\n",
       "      <td>10</td>\n",
       "      <td>3</td>\n",
       "      <td>{'classifier__learning_rate': 10, 'classifier_...</td>\n",
       "      <td>0.279701</td>\n",
       "      <td>0.287251</td>\n",
       "      <td>0.283476</td>\n",
       "      <td>0.003775</td>\n",
       "      <td>12</td>\n",
       "    </tr>\n",
       "  </tbody>\n",
       "</table>\n",
       "</div>"
      ],
      "text/plain": [
       "    mean_fit_time  std_fit_time  mean_score_time  std_score_time  \\\n",
       "5        0.381047      0.035183         0.080053        0.002716   \n",
       "4        0.227645      0.002161         0.079519        0.010898   \n",
       "7        0.082939      0.001496         0.052473        0.002439   \n",
       "6        0.112903      0.028785         0.055016        0.002142   \n",
       "3        0.160095      0.006701         0.071630        0.009654   \n",
       "8        0.099295      0.002143         0.054376        0.003394   \n",
       "2        0.456720      0.040368         0.082239        0.005001   \n",
       "1        0.248021      0.023050         0.088761        0.013055   \n",
       "0        0.161779      0.007583         0.069206        0.003490   \n",
       "10       0.058405      0.001788         0.047660        0.003175   \n",
       "11       0.059392      0.003283         0.046567        0.000128   \n",
       "9        0.053236      0.001060         0.052291        0.000939   \n",
       "\n",
       "   param_classifier__learning_rate param_classifier__max_leaf_nodes  \\\n",
       "5                              0.1                               30   \n",
       "4                              0.1                               10   \n",
       "7                                1                               10   \n",
       "6                                1                                3   \n",
       "3                              0.1                                3   \n",
       "8                                1                               30   \n",
       "2                             0.01                               30   \n",
       "1                             0.01                               10   \n",
       "0                             0.01                                3   \n",
       "10                              10                               10   \n",
       "11                              10                               30   \n",
       "9                               10                                3   \n",
       "\n",
       "                                               params  split0_test_score  \\\n",
       "5   {'classifier__learning_rate': 0.1, 'classifier...           0.868912   \n",
       "4   {'classifier__learning_rate': 0.1, 'classifier...           0.866783   \n",
       "7   {'classifier__learning_rate': 1, 'classifier__...           0.854826   \n",
       "6   {'classifier__learning_rate': 1, 'classifier__...           0.853844   \n",
       "3   {'classifier__learning_rate': 0.1, 'classifier...           0.852752   \n",
       "8   {'classifier__learning_rate': 1, 'classifier__...           0.853734   \n",
       "2   {'classifier__learning_rate': 0.01, 'classifie...           0.840413   \n",
       "1   {'classifier__learning_rate': 0.01, 'classifie...           0.818956   \n",
       "0   {'classifier__learning_rate': 0.01, 'classifie...           0.797882   \n",
       "10  {'classifier__learning_rate': 10, 'classifier_...           0.742356   \n",
       "11  {'classifier__learning_rate': 10, 'classifier_...           0.759937   \n",
       "9   {'classifier__learning_rate': 10, 'classifier_...           0.279701   \n",
       "\n",
       "    split1_test_score  mean_test_score  std_test_score  rank_test_score  \n",
       "5            0.867213         0.868063        0.000850                1  \n",
       "4            0.866066         0.866425        0.000359                2  \n",
       "7            0.862899         0.858863        0.004036                3  \n",
       "6            0.860934         0.857389        0.003545                4  \n",
       "3            0.853781         0.853266        0.000515                5  \n",
       "8            0.848321         0.851028        0.002707                6  \n",
       "2            0.846246         0.843330        0.002917                7  \n",
       "1            0.816708         0.817832        0.001124                8  \n",
       "0            0.796451         0.797166        0.000715                9  \n",
       "10           0.493803         0.618080        0.124277               10  \n",
       "11           0.338739         0.549338        0.210599               11  \n",
       "9            0.287251         0.283476        0.003775               12  "
      ]
     },
     "execution_count": 29,
     "metadata": {},
     "output_type": "execute_result"
    }
   ],
   "source": [
    "cv_results = pd.DataFrame(model_grid_search.cv_results_).sort_values(\"mean_test_score\", ascending=False)\n",
    "cv_results"
   ]
  },
  {
   "cell_type": "markdown",
   "metadata": {},
   "source": [
    "Let us focus on the most interesting columns and shorten the parameter\n",
    "names to remove the `\"param_classifier__\"` prefix for readability:"
   ]
  },
  {
   "cell_type": "code",
   "execution_count": 30,
   "metadata": {},
   "outputs": [],
   "source": [
    "# get the parameter names\n",
    "column_results = [f\"param_{name}\" for name in param_grid.keys()]\n",
    "column_results += [\n",
    "    \"mean_test_score\", \"std_test_score\", \"rank_test_score\"]\n",
    "cv_results = cv_results[column_results]"
   ]
  },
  {
   "cell_type": "code",
   "execution_count": 31,
   "metadata": {},
   "outputs": [
    {
     "data": {
      "text/html": [
       "<div>\n",
       "<style scoped>\n",
       "    .dataframe tbody tr th:only-of-type {\n",
       "        vertical-align: middle;\n",
       "    }\n",
       "\n",
       "    .dataframe tbody tr th {\n",
       "        vertical-align: top;\n",
       "    }\n",
       "\n",
       "    .dataframe thead th {\n",
       "        text-align: right;\n",
       "    }\n",
       "</style>\n",
       "<table border=\"1\" class=\"dataframe\">\n",
       "  <thead>\n",
       "    <tr style=\"text-align: right;\">\n",
       "      <th></th>\n",
       "      <th>learning_rate</th>\n",
       "      <th>max_leaf_nodes</th>\n",
       "      <th>mean_test_score</th>\n",
       "      <th>std_test_score</th>\n",
       "      <th>rank_test_score</th>\n",
       "    </tr>\n",
       "  </thead>\n",
       "  <tbody>\n",
       "    <tr>\n",
       "      <th>5</th>\n",
       "      <td>0.1</td>\n",
       "      <td>30</td>\n",
       "      <td>0.868063</td>\n",
       "      <td>0.000850</td>\n",
       "      <td>1</td>\n",
       "    </tr>\n",
       "    <tr>\n",
       "      <th>4</th>\n",
       "      <td>0.1</td>\n",
       "      <td>10</td>\n",
       "      <td>0.866425</td>\n",
       "      <td>0.000359</td>\n",
       "      <td>2</td>\n",
       "    </tr>\n",
       "    <tr>\n",
       "      <th>7</th>\n",
       "      <td>1</td>\n",
       "      <td>10</td>\n",
       "      <td>0.858863</td>\n",
       "      <td>0.004036</td>\n",
       "      <td>3</td>\n",
       "    </tr>\n",
       "    <tr>\n",
       "      <th>6</th>\n",
       "      <td>1</td>\n",
       "      <td>3</td>\n",
       "      <td>0.857389</td>\n",
       "      <td>0.003545</td>\n",
       "      <td>4</td>\n",
       "    </tr>\n",
       "    <tr>\n",
       "      <th>3</th>\n",
       "      <td>0.1</td>\n",
       "      <td>3</td>\n",
       "      <td>0.853266</td>\n",
       "      <td>0.000515</td>\n",
       "      <td>5</td>\n",
       "    </tr>\n",
       "    <tr>\n",
       "      <th>8</th>\n",
       "      <td>1</td>\n",
       "      <td>30</td>\n",
       "      <td>0.851028</td>\n",
       "      <td>0.002707</td>\n",
       "      <td>6</td>\n",
       "    </tr>\n",
       "    <tr>\n",
       "      <th>2</th>\n",
       "      <td>0.01</td>\n",
       "      <td>30</td>\n",
       "      <td>0.843330</td>\n",
       "      <td>0.002917</td>\n",
       "      <td>7</td>\n",
       "    </tr>\n",
       "    <tr>\n",
       "      <th>1</th>\n",
       "      <td>0.01</td>\n",
       "      <td>10</td>\n",
       "      <td>0.817832</td>\n",
       "      <td>0.001124</td>\n",
       "      <td>8</td>\n",
       "    </tr>\n",
       "    <tr>\n",
       "      <th>0</th>\n",
       "      <td>0.01</td>\n",
       "      <td>3</td>\n",
       "      <td>0.797166</td>\n",
       "      <td>0.000715</td>\n",
       "      <td>9</td>\n",
       "    </tr>\n",
       "    <tr>\n",
       "      <th>10</th>\n",
       "      <td>10</td>\n",
       "      <td>10</td>\n",
       "      <td>0.618080</td>\n",
       "      <td>0.124277</td>\n",
       "      <td>10</td>\n",
       "    </tr>\n",
       "    <tr>\n",
       "      <th>11</th>\n",
       "      <td>10</td>\n",
       "      <td>30</td>\n",
       "      <td>0.549338</td>\n",
       "      <td>0.210599</td>\n",
       "      <td>11</td>\n",
       "    </tr>\n",
       "    <tr>\n",
       "      <th>9</th>\n",
       "      <td>10</td>\n",
       "      <td>3</td>\n",
       "      <td>0.283476</td>\n",
       "      <td>0.003775</td>\n",
       "      <td>12</td>\n",
       "    </tr>\n",
       "  </tbody>\n",
       "</table>\n",
       "</div>"
      ],
      "text/plain": [
       "   learning_rate max_leaf_nodes  mean_test_score  std_test_score  \\\n",
       "5            0.1             30         0.868063        0.000850   \n",
       "4            0.1             10         0.866425        0.000359   \n",
       "7              1             10         0.858863        0.004036   \n",
       "6              1              3         0.857389        0.003545   \n",
       "3            0.1              3         0.853266        0.000515   \n",
       "8              1             30         0.851028        0.002707   \n",
       "2           0.01             30         0.843330        0.002917   \n",
       "1           0.01             10         0.817832        0.001124   \n",
       "0           0.01              3         0.797166        0.000715   \n",
       "10            10             10         0.618080        0.124277   \n",
       "11            10             30         0.549338        0.210599   \n",
       "9             10              3         0.283476        0.003775   \n",
       "\n",
       "    rank_test_score  \n",
       "5                 1  \n",
       "4                 2  \n",
       "7                 3  \n",
       "6                 4  \n",
       "3                 5  \n",
       "8                 6  \n",
       "2                 7  \n",
       "1                 8  \n",
       "0                 9  \n",
       "10               10  \n",
       "11               11  \n",
       "9                12  "
      ]
     },
     "execution_count": 31,
     "metadata": {},
     "output_type": "execute_result"
    }
   ],
   "source": [
    "def shorten_param(param_name):\n",
    "    if \"__\" in param_name:\n",
    "        return param_name.rsplit(\"__\", 1)[1]\n",
    "    return param_name\n",
    "\n",
    "\n",
    "cv_results = cv_results.rename(shorten_param, axis=1)\n",
    "cv_results"
   ]
  },
  {
   "cell_type": "markdown",
   "metadata": {},
   "source": [
    "With only 2 parameters, we might want to visualize the grid-search as a\n",
    "heatmap. We need to transform our `cv_results` into a dataframe where:\n",
    "\n",
    "- the rows will correspond to the learning-rate values;\n",
    "- the columns will correspond to the maximum number of leaf;\n",
    "- the content of the dataframe will be the mean test scores."
   ]
  },
  {
   "cell_type": "code",
   "execution_count": 32,
   "metadata": {},
   "outputs": [
    {
     "data": {
      "text/html": [
       "<div>\n",
       "<style scoped>\n",
       "    .dataframe tbody tr th:only-of-type {\n",
       "        vertical-align: middle;\n",
       "    }\n",
       "\n",
       "    .dataframe tbody tr th {\n",
       "        vertical-align: top;\n",
       "    }\n",
       "\n",
       "    .dataframe thead th {\n",
       "        text-align: right;\n",
       "    }\n",
       "</style>\n",
       "<table border=\"1\" class=\"dataframe\">\n",
       "  <thead>\n",
       "    <tr style=\"text-align: right;\">\n",
       "      <th>max_leaf_nodes</th>\n",
       "      <th>3</th>\n",
       "      <th>10</th>\n",
       "      <th>30</th>\n",
       "    </tr>\n",
       "    <tr>\n",
       "      <th>learning_rate</th>\n",
       "      <th></th>\n",
       "      <th></th>\n",
       "      <th></th>\n",
       "    </tr>\n",
       "  </thead>\n",
       "  <tbody>\n",
       "    <tr>\n",
       "      <th>0.01</th>\n",
       "      <td>0.797166</td>\n",
       "      <td>0.817832</td>\n",
       "      <td>0.843330</td>\n",
       "    </tr>\n",
       "    <tr>\n",
       "      <th>0.10</th>\n",
       "      <td>0.853266</td>\n",
       "      <td>0.866425</td>\n",
       "      <td>0.868063</td>\n",
       "    </tr>\n",
       "    <tr>\n",
       "      <th>1.00</th>\n",
       "      <td>0.857389</td>\n",
       "      <td>0.858863</td>\n",
       "      <td>0.851028</td>\n",
       "    </tr>\n",
       "    <tr>\n",
       "      <th>10.00</th>\n",
       "      <td>0.283476</td>\n",
       "      <td>0.618080</td>\n",
       "      <td>0.549338</td>\n",
       "    </tr>\n",
       "  </tbody>\n",
       "</table>\n",
       "</div>"
      ],
      "text/plain": [
       "max_leaf_nodes        3         10        30\n",
       "learning_rate                               \n",
       "0.01            0.797166  0.817832  0.843330\n",
       "0.10            0.853266  0.866425  0.868063\n",
       "1.00            0.857389  0.858863  0.851028\n",
       "10.00           0.283476  0.618080  0.549338"
      ]
     },
     "execution_count": 32,
     "metadata": {},
     "output_type": "execute_result"
    }
   ],
   "source": [
    "pivoted_cv_results = cv_results.pivot_table(\n",
    "    values=\"mean_test_score\", index=[\"learning_rate\"],\n",
    "    columns=[\"max_leaf_nodes\"])\n",
    "\n",
    "pivoted_cv_results"
   ]
  },
  {
   "cell_type": "code",
   "execution_count": 34,
   "id": "a6fb50cc",
   "metadata": {},
   "outputs": [
    {
     "data": {
      "text/html": [
       "<div>\n",
       "<style scoped>\n",
       "    .dataframe tbody tr th:only-of-type {\n",
       "        vertical-align: middle;\n",
       "    }\n",
       "\n",
       "    .dataframe tbody tr th {\n",
       "        vertical-align: top;\n",
       "    }\n",
       "\n",
       "    .dataframe thead th {\n",
       "        text-align: right;\n",
       "    }\n",
       "</style>\n",
       "<table border=\"1\" class=\"dataframe\">\n",
       "  <thead>\n",
       "    <tr style=\"text-align: right;\">\n",
       "      <th>max_leaf_nodes</th>\n",
       "      <th>3</th>\n",
       "      <th>10</th>\n",
       "      <th>30</th>\n",
       "    </tr>\n",
       "    <tr>\n",
       "      <th>learning_rate</th>\n",
       "      <th></th>\n",
       "      <th></th>\n",
       "      <th></th>\n",
       "    </tr>\n",
       "  </thead>\n",
       "  <tbody>\n",
       "    <tr>\n",
       "      <th>0.01</th>\n",
       "      <td>0.000715</td>\n",
       "      <td>0.001124</td>\n",
       "      <td>0.002917</td>\n",
       "    </tr>\n",
       "    <tr>\n",
       "      <th>0.10</th>\n",
       "      <td>0.000515</td>\n",
       "      <td>0.000359</td>\n",
       "      <td>0.000850</td>\n",
       "    </tr>\n",
       "    <tr>\n",
       "      <th>1.00</th>\n",
       "      <td>0.003545</td>\n",
       "      <td>0.004036</td>\n",
       "      <td>0.002707</td>\n",
       "    </tr>\n",
       "    <tr>\n",
       "      <th>10.00</th>\n",
       "      <td>0.003775</td>\n",
       "      <td>0.124277</td>\n",
       "      <td>0.210599</td>\n",
       "    </tr>\n",
       "  </tbody>\n",
       "</table>\n",
       "</div>"
      ],
      "text/plain": [
       "max_leaf_nodes        3         10        30\n",
       "learning_rate                               \n",
       "0.01            0.000715  0.001124  0.002917\n",
       "0.10            0.000515  0.000359  0.000850\n",
       "1.00            0.003545  0.004036  0.002707\n",
       "10.00           0.003775  0.124277  0.210599"
      ]
     },
     "execution_count": 34,
     "metadata": {},
     "output_type": "execute_result"
    }
   ],
   "source": [
    "pivoted_std_results = cv_results.pivot_table(\n",
    "    values=\"std_test_score\",\n",
    "    index=[\"learning_rate\"],\n",
    "    columns=[\"max_leaf_nodes\"]\n",
    ")\n",
    "pivoted_std_results"
   ]
  },
  {
   "cell_type": "markdown",
   "metadata": {},
   "source": [
    "We can use a heatmap representation to show the above dataframe visually."
   ]
  },
  {
   "cell_type": "code",
   "execution_count": 38,
   "id": "82349cf0",
   "metadata": {},
   "outputs": [
    {
     "data": {
      "image/png": "[encoded data removed]",
      "text/plain": [
       "<Figure size 432x288 with 2 Axes>"
      ]
     },
     "metadata": {
      "needs_background": "light"
     },
     "output_type": "display_data"
    }
   ],
   "source": [
    "import seaborn as sns\n",
    "import matplotlib.pyplot as plt\n",
    "\n",
    "ax = sns.heatmap(pivoted_cv_results, annot=True, cmap=\"YlGnBu\", vmin=0.7, vmax=0.9)\n",
    "ax.invert_yaxis()\n",
    "plt.show()"
   ]
  },
  {
   "cell_type": "markdown",
   "metadata": {},
   "source": [
    "The above tables highlights the following things:\n",
    "\n",
    "* for too high values of `learning_rate`, the generalization performance of the\n",
    "  model is degraded and adjusting the value of `max_leaf_nodes` cannot fix\n",
    "  that problem;\n",
    "* outside of this pathological region, we observe that the optimal choice\n",
    "  of `max_leaf_nodes` depends on the value of `learning_rate`;\n",
    "* in particular, we observe a \"diagonal\" of good models with an accuracy\n",
    "  close to the maximal of 0.87: when the value of `max_leaf_nodes` is\n",
    "  increased, one should decrease the value of `learning_rate` accordingly\n",
    "  to preserve a good accuracy.\n",
    "\n",
    "The precise meaning of those two parameters will be explained later.\n",
    "\n",
    "For now we will note that, in general, **there is no unique optimal parameter\n",
    "setting**: 4 models out of the 12 parameter configurations reach the maximal\n",
    "accuracy (up to small random fluctuations caused by the sampling of the\n",
    "training set)."
   ]
  },
  {
   "cell_type": "markdown",
   "metadata": {},
   "source": [
    "In this notebook we have seen:\n",
    "\n",
    "* how to optimize the hyperparameters of a predictive model via a\n",
    "  grid-search;\n",
    "* that searching for more than two hyperparamters is too costly;\n",
    "* that a grid-search does not necessarily find an optimal solution."
   ]
  }
 ],
 "metadata": {
  "interpreter": {
   "hash": "2ac7241fb10f9bf7f48b40b299db82ca58686bc6006ce162a150ae669d3abd7a"
  },
  "jupytext": {
   "cell_metadata_filter": "-all",
   "main_language": "python",
   "notebook_metadata_filter": "-all"
  },
  "kernelspec": {
   "display_name": "Python 3.10.0 ('sklearn_course_inria-CmU_PTcY')",
   "language": "python",
   "name": "python3"
  },
  "language_info": {
   "codemirror_mode": {
    "name": "ipython",
    "version": 3
   },
   "file_extension": ".py",
   "mimetype": "text/x-python",
   "name": "python",
   "nbconvert_exporter": "python",
   "pygments_lexer": "ipython3",
   "version": "3.10.0"
  }
 },
 "nbformat": 4,
 "nbformat_minor": 5
}
